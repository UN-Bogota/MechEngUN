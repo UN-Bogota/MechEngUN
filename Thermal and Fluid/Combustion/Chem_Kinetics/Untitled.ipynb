{
 "cells": [
  {
   "cell_type": "code",
   "execution_count": 5,
   "id": "392b5ef5-c7f6-4c66-b38c-5ee66a9ec385",
   "metadata": {},
   "outputs": [
    {
     "ename": "ChemkinError",
     "evalue": "Could not read collider efficiencies for reaction: h2 <=> h + h.\nThe following line was parsed incorrectly:\nH2/2.5/ H2O/12.0/\n(Case-preserved tokens: ['h2', '2.5', ' h2o', '12.0', ''] )",
     "output_type": "error",
     "traceback": [
      "\u001b[0;31m---------------------------------------------------------------------------\u001b[0m",
      "\u001b[0;31mIndexError\u001b[0m                                Traceback (most recent call last)",
      "\u001b[0;32m~/opt/RMG/RMG-Py/rmgpy/chemkin.pyx\u001b[0m in \u001b[0;36mrmgpy.chemkin._read_kinetics_line\u001b[0;34m()\u001b[0m\n",
      "\u001b[0;31mIndexError\u001b[0m: list index out of range",
      "\nDuring handling of the above exception, another exception occurred:\n",
      "\u001b[0;31mChemkinError\u001b[0m                              Traceback (most recent call last)",
      "\u001b[0;32m/tmp/ipykernel_25774/2315504847.py\u001b[0m in \u001b[0;36m<module>\u001b[0;34m\u001b[0m\n\u001b[1;32m      2\u001b[0m \u001b[0;34m\u001b[0m\u001b[0m\n\u001b[1;32m      3\u001b[0m \u001b[0mpath\u001b[0m \u001b[0;34m=\u001b[0m \u001b[0;34m'h2_v1b_mech .txt'\u001b[0m\u001b[0;34m\u001b[0m\u001b[0;34m\u001b[0m\u001b[0m\n\u001b[0;32m----> 4\u001b[0;31m \u001b[0mspecies\u001b[0m\u001b[0;34m,\u001b[0m \u001b[0mreactions\u001b[0m \u001b[0;34m=\u001b[0m \u001b[0mrmgpy\u001b[0m\u001b[0;34m.\u001b[0m\u001b[0mchemkin\u001b[0m\u001b[0;34m.\u001b[0m\u001b[0mload_chemkin_file\u001b[0m\u001b[0;34m(\u001b[0m\u001b[0mpath\u001b[0m\u001b[0;34m)\u001b[0m\u001b[0;34m\u001b[0m\u001b[0;34m\u001b[0m\u001b[0m\n\u001b[0m",
      "\u001b[0;32m~/opt/RMG/RMG-Py/rmgpy/chemkin.pyx\u001b[0m in \u001b[0;36mrmgpy.chemkin.load_chemkin_file\u001b[0;34m()\u001b[0m\n",
      "\u001b[0;32m~/opt/RMG/RMG-Py/rmgpy/chemkin.pyx\u001b[0m in \u001b[0;36mrmgpy.chemkin.load_chemkin_file\u001b[0;34m()\u001b[0m\n",
      "\u001b[0;32m~/opt/RMG/RMG-Py/rmgpy/chemkin.pyx\u001b[0m in \u001b[0;36mrmgpy.chemkin.read_reactions_block\u001b[0;34m()\u001b[0m\n",
      "\u001b[0;32m~/opt/RMG/RMG-Py/rmgpy/chemkin.pyx\u001b[0m in \u001b[0;36mrmgpy.chemkin.read_reactions_block\u001b[0;34m()\u001b[0m\n",
      "\u001b[0;32m~/opt/RMG/RMG-Py/rmgpy/chemkin.pyx\u001b[0m in \u001b[0;36mrmgpy.chemkin.read_kinetics_entry\u001b[0;34m()\u001b[0m\n",
      "\u001b[0;32m~/opt/RMG/RMG-Py/rmgpy/chemkin.pyx\u001b[0m in \u001b[0;36mrmgpy.chemkin._read_kinetics_line\u001b[0;34m()\u001b[0m\n",
      "\u001b[0;31mChemkinError\u001b[0m: Could not read collider efficiencies for reaction: h2 <=> h + h.\nThe following line was parsed incorrectly:\nH2/2.5/ H2O/12.0/\n(Case-preserved tokens: ['h2', '2.5', ' h2o', '12.0', ''] )"
     ]
    }
   ],
   "source": [
    "import rmgpy\n",
    "\n",
    "path = 'h2_v1b_mech .txt'\n",
    "species, reactions = rmgpy.chemkin.load_chemkin_file(path)"
   ]
  },
  {
   "cell_type": "code",
   "execution_count": null,
   "id": "ad6d0978-5e6b-44ca-8a89-26a33e04529d",
   "metadata": {},
   "outputs": [],
   "source": []
  }
 ],
 "metadata": {
  "kernelspec": {
   "display_name": "Python 3 (ipykernel)",
   "language": "python",
   "name": "python3"
  },
  "language_info": {
   "codemirror_mode": {
    "name": "ipython",
    "version": 3
   },
   "file_extension": ".py",
   "mimetype": "text/x-python",
   "name": "python",
   "nbconvert_exporter": "python",
   "pygments_lexer": "ipython3",
   "version": "3.7.16"
  }
 },
 "nbformat": 4,
 "nbformat_minor": 5
}
